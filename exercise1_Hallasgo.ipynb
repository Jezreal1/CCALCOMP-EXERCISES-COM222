{
  "cells": [
    {
      "cell_type": "markdown",
      "metadata": {
        "id": "view-in-github"
      },
      "source": [
        "<a href=\"https://colab.research.google.com/github/robitussin/CCALCOMP_EXERCISES/blob/main/exercise1.ipynb\" target=\"_parent\"><img src=\"https://colab.research.google.com/assets/colab-badge.svg\" alt=\"Open In Colab\"/></a>"
      ]
    },
    {
      "cell_type": "markdown",
      "metadata": {
        "id": "3-prKGbfwFRd"
      },
      "source": [
        "# Exercise 1"
      ]
    },
    {
      "cell_type": "markdown",
      "metadata": {
        "id": "kBW-_z9HwFRf"
      },
      "source": [
        "Please follow the instructions in each number. Do not remove or modify the pre-defined code!"
      ]
    },
    {
      "cell_type": "code",
      "execution_count": null,
      "metadata": {
        "id": "ABAdD_ngwFRg"
      },
      "outputs": [],
      "source": [
        "# Add a vertex to the set of vertices and the graph\n",
        "def add_vertex(v):\n",
        "  global graph\n",
        "  global vertices_no\n",
        "  global vertices\n",
        "  if v in vertices:\n",
        "    print(\"Vertex \", v, \" already exists\")\n",
        "  else:\n",
        "    vertices_no = vertices_no + 1\n",
        "    vertices.append(v)\n",
        "    if vertices_no > 1:\n",
        "        for vertex in graph:\n",
        "            vertex.append(0)\n",
        "    temp = []\n",
        "    for i in range(vertices_no):\n",
        "        temp.append(0)\n",
        "    graph.append(temp)\n",
        "\n",
        "# Add an edge between vertex v1 and v2 with edge weight e\n",
        "def add_edge(v1, v2, e):\n",
        "    global graph\n",
        "    global vertices_no\n",
        "    global vertices\n",
        "    # Check if vertex v1 is a valid vertex\n",
        "    if v1 not in vertices:\n",
        "        print(\"Vertex \", v1, \" does not exist.\")\n",
        "    # Check if vertex v1 is a valid vertex\n",
        "    elif v2 not in vertices:\n",
        "        print(\"Vertex \", v2, \" does not exist.\")\n",
        "    # Since this code is not restricted to a directed or\n",
        "    # an undirected graph, an edge between v1 v2 does not\n",
        "    # imply that an edge exists between v2 and v1\n",
        "    else:\n",
        "        index1 = vertices.index(v1)\n",
        "        index2 = vertices.index(v2)\n",
        "        graph[index1][index2] = e\n",
        "\n",
        "# Print the graph\n",
        "def print_graph():\n",
        "  global graph\n",
        "  global vertices_no\n",
        "  for i in range(vertices_no):\n",
        "    for j in range(vertices_no):\n",
        "      if graph[i][j] != 0:\n",
        "        print(vertices[i], \" -> \", vertices[j],\n",
        "              \" edge weight: \", graph[i][j])"
      ]
    },
    {
      "cell_type": "code",
      "execution_count": null,
      "metadata": {
        "id": "912w9tR0wFRh"
      },
      "outputs": [],
      "source": [
        "# stores the vertices in the graph\n",
        "vertices = []\n",
        "# stores the number of vertices in the graph\n",
        "vertices_no = 0\n",
        "graph = []"
      ]
    },
    {
      "cell_type": "markdown",
      "metadata": {
        "id": "lzkib3wYwFRh"
      },
      "source": [
        "<img src=\"https://github.com/robitussin/CCALCOMP_EXERCISES/blob/main/images/directed%20graph2.png?raw=true\"/>"
      ]
    },
    {
      "cell_type": "markdown",
      "metadata": {
        "id": "Qfh-2gbPwFRi"
      },
      "source": [
        "1. Print the edges and vertices of the graph in set representation. (`25 points`)"
      ]
    },
    {
      "cell_type": "code",
      "execution_count": null,
      "metadata": {
        "id": "FSymqoxmwFRi",
        "colab": {
          "base_uri": "https://localhost:8080/"
        },
        "outputId": "7eeb620c-690a-41aa-afa7-6acf2a1c25ff"
      },
      "outputs": [
        {
          "output_type": "stream",
          "name": "stdout",
          "text": [
            "Vertex  E  already exists\n",
            "Vertex  A  already exists\n",
            "Vertex  D  already exists\n",
            "Vertex  C  already exists\n",
            "Vertex  B  already exists\n",
            "Vertices: ['E', 'A', 'D', 'C', 'B']\n",
            "Edges: [('E', 'A'), ('A', 'D'), ('A', 'C'), ('B', 'A'), ('C', 'B'), ('C', 'D')]\n"
          ]
        }
      ],
      "source": [
        "# put your answer here\n",
        "add_vertex('E')\n",
        "add_vertex('A')\n",
        "add_vertex('D')\n",
        "add_vertex('C')\n",
        "add_vertex('B')\n",
        "\n",
        "print(\"Vertices: \", end='')\n",
        "print(vertices)\n",
        "\n",
        "\n",
        "print(\"Edges: \", end='')\n",
        "print([('E', 'A'), ('A', 'D'), ('A', 'C'), ('B', 'A'), ('C', 'B'), ('C', 'D')])"
      ]
    },
    {
      "cell_type": "markdown",
      "metadata": {
        "id": "NHt6QEFzwFRi"
      },
      "source": [
        "2. Implement the weighted graph in python code. Use the print_graph() function. (`25 points`)"
      ]
    },
    {
      "cell_type": "code",
      "execution_count": null,
      "metadata": {
        "id": "fcYP9VF9wFRj",
        "colab": {
          "base_uri": "https://localhost:8080/"
        },
        "outputId": "86c270fa-6743-440c-ef15-f7cd3caadd3c"
      },
      "outputs": [
        {
          "output_type": "stream",
          "name": "stdout",
          "text": [
            "Graph: \n",
            "E  ->  A  edge weight:  7\n",
            "A  ->  D  edge weight:  60\n",
            "A  ->  C  edge weight:  12\n",
            "C  ->  D  edge weight:  32\n",
            "C  ->  B  edge weight:  20\n",
            "B  ->  A  edge weight:  10\n"
          ]
        }
      ],
      "source": [
        "# put your answer here\n",
        "add_edge('E', 'A', 7)\n",
        "add_edge('A', 'D', 60)\n",
        "add_edge('A', 'C', 12)\n",
        "add_edge('B', 'A', 10)\n",
        "add_edge('C', 'B', 20)\n",
        "add_edge('C', 'D', 32)\n",
        "\n",
        "print(\"Graph: \")\n",
        "print_graph()"
      ]
    },
    {
      "cell_type": "markdown",
      "metadata": {
        "id": "kD-6afNTwFRj"
      },
      "source": [
        "3. You decided to go on a trip around the philippines. Being a computer scientist, you wanted to find the optimal route that would cost the least amount of money to travel all four cities. Find the route and print the total cost of the most optimal route. (`50 points`)"
      ]
    },
    {
      "cell_type": "markdown",
      "metadata": {
        "id": "cBHIHSIewFRj"
      },
      "source": [
        "<img src=\"https://github.com/robitussin/CCALCOMP_EXERCISES/blob/main/images/trip.png?raw=true\" width=\"500\" height=\"600\"/>"
      ]
    },
    {
      "cell_type": "code",
      "execution_count": 14,
      "metadata": {
        "id": "yNwmvIXnwFRj",
        "colab": {
          "base_uri": "https://localhost:8080/"
        },
        "outputId": "b9fbf969-7e11-4931-eddf-fa3c6e88668d"
      },
      "outputs": [
        {
          "output_type": "stream",
          "name": "stdout",
          "text": [
            "Cost of the travel: 6500 ph\n",
            "Optimal Route: Manila-> Tacloban-> Puerto Princesa-> Davao\n"
          ]
        }
      ],
      "source": [
        "import copy\n",
        "\n",
        "vertices = []\n",
        "vertices_no = 0\n",
        "graph = []\n",
        "\n",
        "# create graph\n",
        "cities = ['Manila', 'Tacloban', 'Davao', 'Puerto Princesa']\n",
        "city_length = 4;\n",
        "c_edges = [['Manila', 'Tacloban', 1000], ['Tacloban', 'Davao', 2000],\n",
        "           ['Davao', 'Puerto Princesa', 4000], ['Puerto Princesa', 'Manila', 8000],\n",
        "           ['Manila', 'Davao', 5000], ['Puerto Princesa', 'Tacloban', 1500]]\n",
        "\n",
        "for city in cities:\n",
        "   add_vertex(city)\n",
        "\n",
        "for c_edge in c_edges:\n",
        "    add_edge(c_edge[0], c_edge[1], c_edge[2])\n",
        "    add_edge(c_edge[1], c_edge[0], c_edge[2])\n",
        "\n",
        "min_cost = float('inf');\n",
        "min_path = []\n",
        "\n",
        "queue = [[[0], 0], [[1], 0], [[2], 0], [[3], 0]];\n",
        "\n",
        "while len(queue) > 0:\n",
        "  size = len(queue)\n",
        "  for i in range(size):\n",
        "    front = queue.pop(0)\n",
        "    visited = len(front[0])\n",
        "\n",
        "    if visited == city_length:\n",
        "      if min_cost > front[1]:\n",
        "        min_path, min_cost = front\n",
        "        continue\n",
        "\n",
        "    for i in range(city_length):\n",
        "      cost = graph[front[0][visited - 1]][i]\n",
        "      if (cost <= 0 or i in front[0]):\n",
        "        continue\n",
        "\n",
        "      temp = copy.deepcopy(front)\n",
        "      temp[0].append(i)\n",
        "      temp[1] = temp[1] + cost\n",
        "      queue.append(temp)\n",
        "\n",
        "print(\"Cost of the travel: \" + str(min_cost))\n",
        "print(\"Optimal Route: \" + cities[min_path[0]] + \"-> \" + cities[min_path[1]] + \"-> \" + cities[min_path[2]] + \"-> \" + cities[min_path[3]])\n"
      ]
    }
  ],
  "metadata": {
    "kernelspec": {
      "display_name": "base",
      "language": "python",
      "name": "python3"
    },
    "language_info": {
      "codemirror_mode": {
        "name": "ipython",
        "version": 3
      },
      "file_extension": ".py",
      "mimetype": "text/x-python",
      "name": "python",
      "nbconvert_exporter": "python",
      "pygments_lexer": "ipython3",
      "version": "3.9.6"
    },
    "colab": {
      "provenance": []
    }
  },
  "nbformat": 4,
  "nbformat_minor": 0
}